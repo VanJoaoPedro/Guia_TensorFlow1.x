{
  "nbformat": 4,
  "nbformat_minor": 0,
  "metadata": {
    "colab": {
      "name": "graphs_&_tensorboard.ipynb",
      "provenance": []
    },
    "kernelspec": {
      "name": "python3",
      "display_name": "Python 3"
    }
  },
  "cells": [
    {
      "cell_type": "code",
      "metadata": {
        "id": "sCTWksSzcxPZ",
        "colab_type": "code",
        "colab": {
          "base_uri": "https://localhost:8080/",
          "height": 95
        },
        "outputId": "29840444-4bba-49a5-f062-bf07ca55814a"
      },
      "source": [
        "import tensorflow as tf\n",
        "import tensorflow.compat.v1 as tf\n",
        "tf.disable_v2_behavior()"
      ],
      "execution_count": 1,
      "outputs": [
        {
          "output_type": "stream",
          "text": [
            "WARNING:tensorflow:From /usr/local/lib/python3.6/dist-packages/tensorflow/python/compat/v2_compat.py:96: disable_resource_variables (from tensorflow.python.ops.variable_scope) is deprecated and will be removed in a future version.\n",
            "Instructions for updating:\n",
            "non-resource variables are not supported in the long term\n"
          ],
          "name": "stdout"
        }
      ]
    },
    {
      "cell_type": "code",
      "metadata": {
        "id": "z-qDh2enit04",
        "colab_type": "code",
        "colab": {}
      },
      "source": [
        "tf.reset_default_graph()"
      ],
      "execution_count": 0,
      "outputs": []
    },
    {
      "cell_type": "code",
      "metadata": {
        "id": "LTJztFAJg_EL",
        "colab_type": "code",
        "colab": {}
      },
      "source": [
        "#val = tf.add(2, 2, name= 'add')\n",
        "#val2 = tf.multiply(val, 3, name='multiply')\n",
        "#val3 = tf.multiply(val2, val, name='multiply_results' )"
      ],
      "execution_count": 0,
      "outputs": []
    },
    {
      "cell_type": "code",
      "metadata": {
        "id": "NcpqkjfOvyBV",
        "colab_type": "code",
        "colab": {}
      },
      "source": [
        "with tf.name_scope('Scope'):\n",
        "  with tf.name_scope('Escope_add'):\n",
        "    val = tf.add(2, 2, name= 'add')\n",
        "  with tf.name_scope('Escope_multiply'): \n",
        "    val2 = tf.multiply(val, 3, name='multiply')\n",
        "    val3 = tf.multiply(val2, val, name='multiply_results' )"
      ],
      "execution_count": 0,
      "outputs": []
    },
    {
      "cell_type": "code",
      "metadata": {
        "id": "j6qqHZqqhuLm",
        "colab_type": "code",
        "colab": {
          "base_uri": "https://localhost:8080/",
          "height": 36
        },
        "outputId": "785fff3f-8e6b-402d-d257-2cd7970f428e"
      },
      "source": [
        "with tf.Session() as sess:\n",
        "  write = tf.summary.FileWriter('output', sess.graph)\n",
        "  print(sess.run(val3))\n",
        "  write.close()"
      ],
      "execution_count": 18,
      "outputs": [
        {
          "output_type": "stream",
          "text": [
            "48\n"
          ],
          "name": "stdout"
        }
      ]
    }
  ]
}