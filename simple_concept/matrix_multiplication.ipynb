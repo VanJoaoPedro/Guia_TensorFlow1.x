{
  "nbformat": 4,
  "nbformat_minor": 0,
  "metadata": {
    "colab": {
      "name": "matrix_multiplication.ipynb",
      "provenance": []
    },
    "kernelspec": {
      "name": "python3",
      "display_name": "Python 3"
    }
  },
  "cells": [
    {
      "cell_type": "code",
      "metadata": {
        "id": "IEgKe7tTAE6k",
        "colab_type": "code",
        "outputId": "24ef1a45-3835-4279-cadf-55351b3c5648",
        "colab": {
          "base_uri": "https://localhost:8080/",
          "height": 95
        }
      },
      "source": [
        "import tensorflow as tf\n",
        "import tensorflow.compat.v1 as tf\n",
        "tf.disable_v2_behavior()"
      ],
      "execution_count": 1,
      "outputs": [
        {
          "output_type": "stream",
          "text": [
            "WARNING:tensorflow:From /usr/local/lib/python3.6/dist-packages/tensorflow/python/compat/v2_compat.py:96: disable_resource_variables (from tensorflow.python.ops.variable_scope) is deprecated and will be removed in a future version.\n",
            "Instructions for updating:\n",
            "non-resource variables are not supported in the long term\n"
          ],
          "name": "stdout"
        }
      ]
    },
    {
      "cell_type": "code",
      "metadata": {
        "id": "Ijaxan7WAXOL",
        "colab_type": "code",
        "colab": {}
      },
      "source": [
        "matriz = tf.constant([[1, 2], [3, 4]], name='matriz')\n",
        "matriz2 = tf.constant([[-1, 3], [4, 2]], name='matriz2')"
      ],
      "execution_count": 0,
      "outputs": []
    },
    {
      "cell_type": "code",
      "metadata": {
        "id": "4ibMJO05A0Ri",
        "colab_type": "code",
        "colab": {}
      },
      "source": [
        "mult = tf.matmul(matriz, matriz2)"
      ],
      "execution_count": 0,
      "outputs": []
    },
    {
      "cell_type": "code",
      "metadata": {
        "id": "JqAPoc-TE04N",
        "colab_type": "code",
        "outputId": "d2ed0cbb-04f9-4a21-c9eb-40b25bbd38e8",
        "colab": {
          "base_uri": "https://localhost:8080/",
          "height": 211
        }
      },
      "source": [
        "with tf.Session() as sess:\n",
        "  print(sess.run(matriz))\n",
        "  print('\\n')\n",
        "  print(sess.run(matriz2))\n",
        "  print('\\n')\n",
        "  print(sess.run(mult))"
      ],
      "execution_count": 4,
      "outputs": [
        {
          "output_type": "stream",
          "text": [
            "[[1 2]\n",
            " [3 4]]\n",
            "\n",
            "\n",
            "[[-1  3]\n",
            " [ 4  2]]\n",
            "\n",
            "\n",
            "[[ 7  7]\n",
            " [13 17]]\n"
          ],
          "name": "stdout"
        }
      ]
    },
    {
      "cell_type": "code",
      "metadata": {
        "id": "TiuLdCSBFRFA",
        "colab_type": "code",
        "colab": {}
      },
      "source": [
        "mult2 = tf.matmul(matriz2, matriz)"
      ],
      "execution_count": 0,
      "outputs": []
    },
    {
      "cell_type": "code",
      "metadata": {
        "id": "35PLQ-kvMFDW",
        "colab_type": "code",
        "colab": {
          "base_uri": "https://localhost:8080/",
          "height": 56
        },
        "outputId": "9fbf9728-1d9f-447b-8123-0776d29746b4"
      },
      "source": [
        "with tf.Session() as sess:\n",
        "  print(sess.run(mult2))"
      ],
      "execution_count": 10,
      "outputs": [
        {
          "output_type": "stream",
          "text": [
            "[[ 8 10]\n",
            " [10 16]]\n"
          ],
          "name": "stdout"
        }
      ]
    },
    {
      "cell_type": "code",
      "metadata": {
        "id": "2QgaRYRnMPQe",
        "colab_type": "code",
        "colab": {}
      },
      "source": [
        "matriz3 = tf.constant([[2, 3], [0, 1], [-1, 4]], name='matriz3')\n",
        "matriz4 = tf.constant([[1, 2, 3], [-2, 0, 4]], name='matriz4')\n",
        "mult3 = tf.matmul(matriz3, matriz4)"
      ],
      "execution_count": 0,
      "outputs": []
    },
    {
      "cell_type": "code",
      "metadata": {
        "id": "r77znlwKNG1m",
        "colab_type": "code",
        "colab": {
          "base_uri": "https://localhost:8080/",
          "height": 249
        },
        "outputId": "87c338ee-c553-4b63-dc47-e4bd722c9289"
      },
      "source": [
        "with tf.Session() as sess:\n",
        "  print(sess.run(matriz3))\n",
        "  print('\\n')\n",
        "  print(sess.run(matriz4))\n",
        "  print('\\n')\n",
        "  print(sess.run(mult3))\n"
      ],
      "execution_count": 18,
      "outputs": [
        {
          "output_type": "stream",
          "text": [
            "[[ 2  3]\n",
            " [ 0  1]\n",
            " [-1  4]]\n",
            "\n",
            "\n",
            "[[ 1  2  3]\n",
            " [-2  0  4]]\n",
            "\n",
            "\n",
            "[[-4  4 18]\n",
            " [-2  0  4]\n",
            " [-9 -2 13]]\n"
          ],
          "name": "stdout"
        }
      ]
    }
  ]
}