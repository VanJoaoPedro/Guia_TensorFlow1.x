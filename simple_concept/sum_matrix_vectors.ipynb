{
  "nbformat": 4,
  "nbformat_minor": 0,
  "metadata": {
    "colab": {
      "name": "sum_matrix_vectors.ipynb",
      "provenance": []
    },
    "kernelspec": {
      "name": "python3",
      "display_name": "Python 3"
    }
  },
  "cells": [
    {
      "cell_type": "code",
      "metadata": {
        "id": "aLlmCTqRYq0e",
        "colab_type": "code",
        "outputId": "51d2b977-28d7-4306-b9ed-34726786ed0f",
        "colab": {
          "base_uri": "https://localhost:8080/",
          "height": 95
        }
      },
      "source": [
        "import tensorflow as tf\n",
        "import tensorflow.compat.v1 as tf\n",
        "tf.disable_v2_behavior()"
      ],
      "execution_count": 1,
      "outputs": [
        {
          "output_type": "stream",
          "text": [
            "WARNING:tensorflow:From /usr/local/lib/python3.6/dist-packages/tensorflow/python/compat/v2_compat.py:96: disable_resource_variables (from tensorflow.python.ops.variable_scope) is deprecated and will be removed in a future version.\n",
            "Instructions for updating:\n",
            "non-resource variables are not supported in the long term\n"
          ],
          "name": "stdout"
        }
      ]
    },
    {
      "cell_type": "code",
      "metadata": {
        "id": "uPz6ymZUZU20",
        "colab_type": "code",
        "colab": {}
      },
      "source": [
        "val = tf.constant([9, 8, 7], name = 'val')\n",
        "val1 = tf.constant([1, 2, 3], name = 'val1')"
      ],
      "execution_count": 0,
      "outputs": []
    },
    {
      "cell_type": "code",
      "metadata": {
        "id": "sYOv7uyRadfz",
        "colab_type": "code",
        "colab": {}
      },
      "source": [
        "soma = val + val1"
      ],
      "execution_count": 0,
      "outputs": []
    },
    {
      "cell_type": "code",
      "metadata": {
        "id": "nPTymI0uahNh",
        "colab_type": "code",
        "outputId": "84382dd1-b949-4821-cdb1-ca39f1bf3e8f",
        "colab": {
          "base_uri": "https://localhost:8080/",
          "height": 36
        }
      },
      "source": [
        "type(val)"
      ],
      "execution_count": 4,
      "outputs": [
        {
          "output_type": "execute_result",
          "data": {
            "text/plain": [
              "tensorflow.python.framework.ops.Tensor"
            ]
          },
          "metadata": {
            "tags": []
          },
          "execution_count": 4
        }
      ]
    },
    {
      "cell_type": "code",
      "metadata": {
        "id": "k3xIl3IDargT",
        "colab_type": "code",
        "outputId": "c8f28edb-9b01-4f88-a65d-c68d4341e513",
        "colab": {
          "base_uri": "https://localhost:8080/",
          "height": 36
        }
      },
      "source": [
        "print(val)"
      ],
      "execution_count": 5,
      "outputs": [
        {
          "output_type": "stream",
          "text": [
            "Tensor(\"val:0\", shape=(3,), dtype=int32)\n"
          ],
          "name": "stdout"
        }
      ]
    },
    {
      "cell_type": "code",
      "metadata": {
        "id": "-hQd2jTTauaz",
        "colab_type": "code",
        "outputId": "063d077d-0d67-46fb-b8bd-fbeab96b0112",
        "colab": {
          "base_uri": "https://localhost:8080/",
          "height": 36
        }
      },
      "source": [
        "with tf.Session() as sess:\n",
        "  print(sess.run(soma))\n"
      ],
      "execution_count": 6,
      "outputs": [
        {
          "output_type": "stream",
          "text": [
            "[10 10 10]\n"
          ],
          "name": "stdout"
        }
      ]
    },
    {
      "cell_type": "code",
      "metadata": {
        "id": "s8Gem7XRfG7e",
        "colab_type": "code",
        "colab": {}
      },
      "source": [
        "matriz = tf.constant([[1, 2, 3], [4, 5, 6]], name = 'matriz')"
      ],
      "execution_count": 0,
      "outputs": []
    },
    {
      "cell_type": "code",
      "metadata": {
        "id": "YXFbz_HffXEO",
        "colab_type": "code",
        "outputId": "8f90d10f-8e64-411c-97d9-9c14ef24127f",
        "colab": {
          "base_uri": "https://localhost:8080/",
          "height": 36
        }
      },
      "source": [
        "type(matriz)"
      ],
      "execution_count": 8,
      "outputs": [
        {
          "output_type": "execute_result",
          "data": {
            "text/plain": [
              "tensorflow.python.framework.ops.Tensor"
            ]
          },
          "metadata": {
            "tags": []
          },
          "execution_count": 8
        }
      ]
    },
    {
      "cell_type": "code",
      "metadata": {
        "id": "C-ca1eFofxqh",
        "colab_type": "code",
        "outputId": "05694a4e-fce7-4ed8-d603-32681bff2a36",
        "colab": {
          "base_uri": "https://localhost:8080/",
          "height": 36
        }
      },
      "source": [
        "print(matriz)"
      ],
      "execution_count": 9,
      "outputs": [
        {
          "output_type": "stream",
          "text": [
            "Tensor(\"matriz:0\", shape=(2, 3), dtype=int32)\n"
          ],
          "name": "stdout"
        }
      ]
    },
    {
      "cell_type": "code",
      "metadata": {
        "id": "7A66oWaJf0T-",
        "colab_type": "code",
        "outputId": "5af77734-91bb-4867-b3ca-dff5de77b0a8",
        "colab": {
          "base_uri": "https://localhost:8080/",
          "height": 36
        }
      },
      "source": [
        "matriz.shape"
      ],
      "execution_count": 10,
      "outputs": [
        {
          "output_type": "execute_result",
          "data": {
            "text/plain": [
              "TensorShape([Dimension(2), Dimension(3)])"
            ]
          },
          "metadata": {
            "tags": []
          },
          "execution_count": 10
        }
      ]
    },
    {
      "cell_type": "code",
      "metadata": {
        "id": "x9kX7B2Cf4N3",
        "colab_type": "code",
        "colab": {}
      },
      "source": [
        "matriz2 = tf.constant([[1, 2, 3], [4, 5, 6]], name = 'matriz2')"
      ],
      "execution_count": 0,
      "outputs": []
    },
    {
      "cell_type": "code",
      "metadata": {
        "id": "VCLA5J7hgMnP",
        "colab_type": "code",
        "colab": {}
      },
      "source": [
        "soma1 = tf.add(matriz, matriz2)"
      ],
      "execution_count": 0,
      "outputs": []
    },
    {
      "cell_type": "code",
      "metadata": {
        "id": "-jN6849Egpyg",
        "colab_type": "code",
        "outputId": "ba68b532-7ceb-4d58-a8e7-9382b1bd5abe",
        "colab": {
          "base_uri": "https://localhost:8080/",
          "height": 172
        }
      },
      "source": [
        "with tf.Session() as sess:\n",
        "  print(sess.run(matriz))\n",
        "  print('/n')\n",
        "  print(sess.run(matriz2))\n",
        "  print('/n')\n",
        "  print(sess.run(soma1))"
      ],
      "execution_count": 13,
      "outputs": [
        {
          "output_type": "stream",
          "text": [
            "[[1 2 3]\n",
            " [4 5 6]]\n",
            "/n\n",
            "[[1 2 3]\n",
            " [4 5 6]]\n",
            "/n\n",
            "[[ 2  4  6]\n",
            " [ 8 10 12]]\n"
          ],
          "name": "stdout"
        }
      ]
    },
    {
      "cell_type": "code",
      "metadata": {
        "id": "CB_pgzWb4tgW",
        "colab_type": "code",
        "colab": {
          "base_uri": "https://localhost:8080/",
          "height": 36
        },
        "outputId": "b32bf394-13c3-4617-dea3-ad91c55169fc"
      },
      "source": [
        "matriz2 = tf.constant([[1, 2, 3], [4, 5, 6,]], name='matriz2')\n",
        "matriz3 = tf.constant([[1], [2]], name='matriz3')\n",
        "soma2 = tf.add(matriz2, matriz3)\n",
        "print(soma2)"
      ],
      "execution_count": 19,
      "outputs": [
        {
          "output_type": "stream",
          "text": [
            "Tensor(\"Add_3:0\", shape=(2, 3), dtype=int32)\n"
          ],
          "name": "stdout"
        }
      ]
    },
    {
      "cell_type": "code",
      "metadata": {
        "id": "1GsV4VLP5vOH",
        "colab_type": "code",
        "colab": {
          "base_uri": "https://localhost:8080/",
          "height": 172
        },
        "outputId": "4ded5aac-9366-4335-fb0c-db9d7dd5d3f4"
      },
      "source": [
        "with tf.Session() as sess:\n",
        "  print(sess.run(matriz2))\n",
        "  print('/n')\n",
        "  print(sess.run(matriz3))\n",
        "  print('/n')\n",
        "  print(sess.run(soma2))\n"
      ],
      "execution_count": 21,
      "outputs": [
        {
          "output_type": "stream",
          "text": [
            "[[1 2 3]\n",
            " [4 5 6]]\n",
            "/n\n",
            "[[1]\n",
            " [2]]\n",
            "/n\n",
            "[[2 3 4]\n",
            " [6 7 8]]\n"
          ],
          "name": "stdout"
        }
      ]
    }
  ]
}