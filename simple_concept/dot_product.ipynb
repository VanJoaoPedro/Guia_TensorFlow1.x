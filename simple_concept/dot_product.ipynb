{
  "nbformat": 4,
  "nbformat_minor": 0,
  "metadata": {
    "colab": {
      "name": "dot_product.ipynb",
      "provenance": []
    },
    "kernelspec": {
      "name": "python3",
      "display_name": "Python 3"
    }
  },
  "cells": [
    {
      "cell_type": "code",
      "metadata": {
        "id": "xKeYY0wSTDLR",
        "colab_type": "code",
        "colab": {
          "base_uri": "https://localhost:8080/",
          "height": 95
        },
        "outputId": "8d5d813d-fdd8-4d8b-95d3-bcd02be4ab1b"
      },
      "source": [
        "import tensorflow as tf\n",
        "import tensorflow.compat.v1 as tf\n",
        "tf.disable_v2_behavior()"
      ],
      "execution_count": 2,
      "outputs": [
        {
          "output_type": "stream",
          "text": [
            "WARNING:tensorflow:From /usr/local/lib/python3.6/dist-packages/tensorflow/python/compat/v2_compat.py:96: disable_resource_variables (from tensorflow.python.ops.variable_scope) is deprecated and will be removed in a future version.\n",
            "Instructions for updating:\n",
            "non-resource variables are not supported in the long term\n"
          ],
          "name": "stdout"
        }
      ]
    },
    {
      "cell_type": "code",
      "metadata": {
        "id": "vVd1E7juOFCK",
        "colab_type": "code",
        "colab": {}
      },
      "source": [
        "inputs = tf.constant([[-1.0, 7.0, 5.0]], name = 'inputs')\n",
        "weigths = tf.constant([[0.8, 0.1, 0.0]], name = 'weigths')\n",
        "\n",
        "mult = tf.multiply(inputs, weigths)\n",
        "\n",
        "total = tf.reduce_sum(mult)"
      ],
      "execution_count": 0,
      "outputs": []
    },
    {
      "cell_type": "code",
      "metadata": {
        "id": "rbHJ5VjdS_Nw",
        "colab_type": "code",
        "colab": {
          "base_uri": "https://localhost:8080/",
          "height": 211
        },
        "outputId": "5ee08830-734f-4086-f02b-a6beefa535af"
      },
      "source": [
        "with tf.Session() as sess:\n",
        "  print(sess.run(inputs))\n",
        "  print('\\n')\n",
        "  print(sess.run(weights))\n",
        "  print('\\n')\n",
        "  print(sess.run(mult))\n",
        "  print('\\n')\n",
        "  print(sess.run(total))"
      ],
      "execution_count": 21,
      "outputs": [
        {
          "output_type": "stream",
          "text": [
            "[[-1.  7.  5.]]\n",
            "\n",
            "\n",
            "[[0.8 0.1 0. ]]\n",
            "\n",
            "\n",
            "[[-0.8  0.7  0. ]]\n",
            "\n",
            "\n",
            "-0.100000024\n"
          ],
          "name": "stdout"
        }
      ]
    }
  ]
}