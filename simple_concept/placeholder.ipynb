{
  "nbformat": 4,
  "nbformat_minor": 0,
  "metadata": {
    "colab": {
      "name": "placeholder.ipynb",
      "provenance": []
    },
    "kernelspec": {
      "name": "python3",
      "display_name": "Python 3"
    }
  },
  "cells": [
    {
      "cell_type": "code",
      "metadata": {
        "id": "1tL4pTNMWcAh",
        "colab_type": "code",
        "colab": {
          "base_uri": "https://localhost:8080/",
          "height": 95
        },
        "outputId": "9979789e-6214-4a2d-8a51-c192a4e9ea4b"
      },
      "source": [
        "import tensorflow as tf\n",
        "import tensorflow.compat.v1 as tf\n",
        "tf.disable_v2_behavior()"
      ],
      "execution_count": 1,
      "outputs": [
        {
          "output_type": "stream",
          "text": [
            "WARNING:tensorflow:From /usr/local/lib/python3.6/dist-packages/tensorflow/python/compat/v2_compat.py:96: disable_resource_variables (from tensorflow.python.ops.variable_scope) is deprecated and will be removed in a future version.\n",
            "Instructions for updating:\n",
            "non-resource variables are not supported in the long term\n"
          ],
          "name": "stdout"
        }
      ]
    },
    {
      "cell_type": "code",
      "metadata": {
        "id": "WwXwETZZWtjg",
        "colab_type": "code",
        "colab": {}
      },
      "source": [
        "placeholder = tf.placeholder('float', None)"
      ],
      "execution_count": 0,
      "outputs": []
    },
    {
      "cell_type": "code",
      "metadata": {
        "id": "MyF6Pum7XJNj",
        "colab_type": "code",
        "colab": {}
      },
      "source": [
        "operation = placeholder + 2"
      ],
      "execution_count": 0,
      "outputs": []
    },
    {
      "cell_type": "code",
      "metadata": {
        "id": "2YidEJCcXRLk",
        "colab_type": "code",
        "colab": {
          "base_uri": "https://localhost:8080/",
          "height": 36
        },
        "outputId": "a2d18d41-1799-47f0-bd16-08f8a1d203d0"
      },
      "source": [
        "with tf.Session() as sess:\n",
        "  #sess.run(operation)\n",
        "  result = sess.run(operation, feed_dict={placeholder: [1, 2, 3]})\n",
        "  print(result)\n"
      ],
      "execution_count": 8,
      "outputs": [
        {
          "output_type": "stream",
          "text": [
            "[3. 4. 5.]\n"
          ],
          "name": "stdout"
        }
      ]
    },
    {
      "cell_type": "code",
      "metadata": {
        "id": "2XMhkJZ8Zb_B",
        "colab_type": "code",
        "colab": {}
      },
      "source": [
        "placeholder2 = tf.placeholder('float', [None, 5])\n",
        "operation2 = placeholder2 * 5"
      ],
      "execution_count": 0,
      "outputs": []
    },
    {
      "cell_type": "code",
      "metadata": {
        "id": "e_3yzdioZx24",
        "colab_type": "code",
        "colab": {
          "base_uri": "https://localhost:8080/",
          "height": 56
        },
        "outputId": "c0657f09-a9e7-4175-f87b-33f42884a826"
      },
      "source": [
        "with tf.Session() as sess:\n",
        "  data = [[1, 2, 3, 4, 5], [6, 7, 8, 9, 10]]\n",
        "  result = sess.run(operation2, feed_dict={placeholder2 :data}) \n",
        "  print(result)"
      ],
      "execution_count": 12,
      "outputs": [
        {
          "output_type": "stream",
          "text": [
            "[[ 5. 10. 15. 20. 25.]\n",
            " [30. 35. 40. 45. 50.]]\n"
          ],
          "name": "stdout"
        }
      ]
    }
  ]
}